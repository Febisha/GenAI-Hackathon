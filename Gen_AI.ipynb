{
  "nbformat": 4,
  "nbformat_minor": 0,
  "metadata": {
    "colab": {
      "provenance": [],
      "authorship_tag": "ABX9TyMngSfK8tXMFFYZ09LN9pkX",
      "include_colab_link": true
    },
    "kernelspec": {
      "name": "python3",
      "display_name": "Python 3"
    },
    "language_info": {
      "name": "python"
    }
  },
  "cells": [
    {
      "cell_type": "markdown",
      "metadata": {
        "id": "view-in-github",
        "colab_type": "text"
      },
      "source": [
        "<a href=\"https://colab.research.google.com/github/Febisha/GenAI-Hackathon/blob/main/Gen_AI.ipynb\" target=\"_parent\"><img src=\"https://colab.research.google.com/assets/colab-badge.svg\" alt=\"Open In Colab\"/></a>"
      ]
    },
    {
      "cell_type": "code",
      "source": [
        "import pandas as pd\n",
        "from sklearn.metrics.pairwise import cosine_similarity\n",
        "\n",
        "# Step 1: Create Data\n",
        "user_item_data = pd.DataFrame({\n",
        "    'user_id': [1, 1, 2, 2, 3, 3, 4],\n",
        "    'item_id': [101, 102, 101, 103, 104, 102, 105],\n",
        "    'rating': [5, 3, 4, 5, 2, 4, 3]\n",
        "})\n",
        "\n",
        "item_metadata = pd.DataFrame({\n",
        "    'item_id': [101, 102, 103, 104, 105],\n",
        "    'category': ['Electronics', 'Clothing', 'Books', 'Electronics', 'Books']\n",
        "})\n",
        "\n",
        "# Step 2: User-Item Matrix\n",
        "user_item_matrix = user_item_data.pivot(index='user_id', columns='item_id', values='rating').fillna(0)\n",
        "\n",
        "# Step 3: Collaborative Filtering\n",
        "user_similarity = cosine_similarity(user_item_matrix)\n",
        "user_similarity_df = pd.DataFrame(user_similarity, index=user_item_matrix.index, columns=user_item_matrix.index)\n",
        "\n",
        "# Step 4: Content-Based Filtering\n",
        "item_categories = pd.get_dummies(item_metadata.set_index('item_id')['category'])\n",
        "item_similarity = cosine_similarity(item_categories)\n",
        "item_similarity_df = pd.DataFrame(item_similarity, index=item_categories.index, columns=item_categories.index)\n",
        "\n",
        "# Step 5: Recommend Items\n",
        "def recommend(user_id, top_n=3):\n",
        "    # Collaborative Filtering\n",
        "    similar_users = user_similarity_df.loc[user_id].sort_values(ascending=False).index[1:]\n",
        "    collaborative_recs = set()\n",
        "    for sim_user in similar_users:\n",
        "        items = user_item_matrix.loc[sim_user]\n",
        "        collaborative_recs.update(items[items > 0].index)\n",
        "\n",
        "    # Content-Based Filtering\n",
        "    user_items = user_item_matrix.loc[user_id]\n",
        "    rated_items = user_items[user_items > 0].index\n",
        "    content_recs = set()\n",
        "    for item in rated_items:\n",
        "        similar_items = item_similarity_df.loc[item].sort_values(ascending=False).index[1:top_n+1]\n",
        "        content_recs.update(similar_items)\n",
        "\n",
        "    # Combine recommendations and return\n",
        "    final_recs = list(collaborative_recs.union(content_recs) - set(rated_items))\n",
        "    return final_recs[:top_n]\n",
        "\n",
        "# Step 6: Generate Recommendations for All Users\n",
        "def generate_all_recommendations():\n",
        "    all_recommendations = {}\n",
        "    for user_id in user_item_matrix.index:\n",
        "        all_recommendations[user_id] = recommend(user_id, top_n=5)\n",
        "    return all_recommendations\n",
        "\n",
        "# Print recommendations for all users\n",
        "all_recs = generate_all_recommendations()\n",
        "for user, recs in all_recs.items():\n",
        "    print(f\"Recommendations for User {user}: {recs}\")\n"
      ],
      "metadata": {
        "colab": {
          "base_uri": "https://localhost:8080/"
        },
        "id": "8kowd4Rghj5r",
        "outputId": "a0ab283f-9fd6-4ff2-ef31-986ad516fe4d"
      },
      "execution_count": 6,
      "outputs": [
        {
          "output_type": "stream",
          "name": "stdout",
          "text": [
            "Recommendations for User 1: [104, 105, 103]\n",
            "Recommendations for User 2: [104, 105, 102]\n",
            "Recommendations for User 3: [105, 101, 103]\n",
            "Recommendations for User 4: [104, 101, 102, 103]\n"
          ]
        }
      ]
    }
  ]
}