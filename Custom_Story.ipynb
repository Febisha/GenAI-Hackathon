{
  "nbformat": 4,
  "nbformat_minor": 0,
  "metadata": {
    "colab": {
      "provenance": [],
      "authorship_tag": "ABX9TyMiInqfRXan004cwct2jzdT",
      "include_colab_link": true
    },
    "kernelspec": {
      "name": "python3",
      "display_name": "Python 3"
    },
    "language_info": {
      "name": "python"
    }
  },
  "cells": [
    {
      "cell_type": "markdown",
      "metadata": {
        "id": "view-in-github",
        "colab_type": "text"
      },
      "source": [
        "<a href=\"https://colab.research.google.com/github/Febisha/GenAI-Hackathon/blob/main/Custom_Story.ipynb\" target=\"_parent\"><img src=\"https://colab.research.google.com/assets/colab-badge.svg\" alt=\"Open In Colab\"/></a>"
      ]
    },
    {
      "cell_type": "code",
      "execution_count": 2,
      "metadata": {
        "colab": {
          "base_uri": "https://localhost:8080/"
        },
        "id": "6ie_y4LsRDFW",
        "outputId": "df2081a3-d973-44ee-c414-d780ecc6eacd"
      },
      "outputs": [
        {
          "output_type": "stream",
          "name": "stdout",
          "text": [
            "Enter your character's name: febi\n",
            "Enter the setting (e.g., an ancient forest, a snowy mountain, etc.): a snowy mountain\n",
            "Enter the goal of the character (e.g., find a lost treasure, rescue a kidnapped prince, etc.):  rescue a kidnapped prince\n",
            "Enter the conflict or challenge the character faces (e.g., a wild beast, an evil sorcerer, etc.): a wild beast\n",
            "Enter a twist in the story (e.g., an unexpected ally, a curse, etc.): an unexpected ally\n",
            "Enter the resolution (e.g., through bravery, cleverness, unlocking hidden powers, etc.): cleverness\n",
            "\n",
            "Your Generated 6-Line Story:\n",
            "One day, febi set out to  rescue a kidnapped prince in a snowy mountain. \n",
            "Along the journey, febi encountered a wild beast. \n",
            "Just when things seemed hopeless, febi an unexpected ally. \n",
            "The adventure grew more intense as febi faced greater challenges. \n",
            "Finally, febi cleverness, overcoming the hardest trial. \n",
            "And so, febi became a legend, remembered by all.\n"
          ]
        }
      ],
      "source": [
        "# Function to prompt the user for input and generate a 6-line story\n",
        "def generate_6line_story():\n",
        "    # Prompt user to input each story element\n",
        "    character = input(\"Enter your character's name: \")\n",
        "    setting = input(\"Enter the setting (e.g., an ancient forest, a snowy mountain, etc.): \")\n",
        "    goal = input(\"Enter the goal of the character (e.g., find a lost treasure, rescue a kidnapped prince, etc.): \")\n",
        "    conflict = input(\"Enter the conflict or challenge the character faces (e.g., a wild beast, an evil sorcerer, etc.): \")\n",
        "    twist = input(\"Enter a twist in the story (e.g., an unexpected ally, a curse, etc.): \")\n",
        "    resolution = input(\"Enter the resolution (e.g., through bravery, cleverness, unlocking hidden powers, etc.): \")\n",
        "\n",
        "    # Generate the 6-line story based on the user's input\n",
        "    story = (\n",
        "        f\"One day, {character} set out to {goal} in {setting}. \\n\"\n",
        "        f\"Along the journey, {character} encountered {conflict}. \\n\"\n",
        "        f\"Just when things seemed hopeless, {character} {twist}. \\n\"\n",
        "        f\"The adventure grew more intense as {character} faced greater challenges. \\n\"\n",
        "        f\"Finally, {character} {resolution}, overcoming the hardest trial. \\n\"\n",
        "        f\"And so, {character} became a legend, remembered by all.\"\n",
        "    )\n",
        "\n",
        "    return story\n",
        "\n",
        "# Generate and print the 6-line personalized story based on user input\n",
        "user_story = generate_6line_story()\n",
        "print(\"\\nYour Generated 6-Line Story:\")\n",
        "print(user_story)\n"
      ]
    }
  ]
}